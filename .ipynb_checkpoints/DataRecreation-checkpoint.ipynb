{
 "cells": [
  {
   "cell_type": "code",
   "execution_count": 1,
   "id": "6609462f-d97b-43f6-a793-5484880c43cb",
   "metadata": {},
   "outputs": [],
   "source": [
    "import networkx as nx\n",
    "import numpy as np\n",
    "import csv\n",
    "import matplotlib\n",
    "import matplotlib.pylab as plt\n",
    "\n",
    "%matplotlib inline"
   ]
  },
  {
   "cell_type": "code",
   "execution_count": 98,
   "id": "0c836b44-aa98-46fc-89b8-90693e164114",
   "metadata": {},
   "outputs": [],
   "source": [
    "def drawGz(G,z, name):\n",
    "    # DO NOT MODIFY THIS FUNCTION\n",
    "    # This function draws G with node labels from partition z\n",
    "    #\n",
    "    # input  : G is a networkx graph\n",
    "    #        : z is a dictionary of group labels for G's nodes\n",
    "    # output : none\n",
    "    # \n",
    "    # WARNING: function is optimistic: assumes inputs are properly formatted\n",
    "\n",
    "    colors = ['#d61111','#11c6d6','#d67711','#11d646','#1b11d6','#d611cc'] # map node labels to colors (for the visualization)\n",
    "\n",
    "    node_colors = []\n",
    "    node_labels = []\n",
    "    \n",
    "    for i in G.nodes():\n",
    "        node_colors.append(colors[int(z[i])])\n",
    "        node_labels.append(int(z[i]))\n",
    "    \n",
    "    nsize  = 600\n",
    "    flabel = True\n",
    "\n",
    "    if G.order() > 50:\n",
    "        nsize  = 300\n",
    "        flabel = False\n",
    "        \n",
    "    nx.draw_networkx(G,with_labels=flabel,node_size=nsize, width=2,node_color=node_colors) # draw it pretty\n",
    "    limits=plt.axis('off')                                      # turn off axes\n",
    "    \n",
    "\n",
    "    return node_colors, node_labels"
   ]
  },
  {
   "cell_type": "code",
   "execution_count": 99,
   "id": "21b2efbc-ab81-4b00-94cb-5b9de97c9d0a",
   "metadata": {},
   "outputs": [],
   "source": [
    "def plot_CCDF(kis):\n",
    "    # input : a list of degrees, e.g., from a networkx graph G\n",
    "    # output: a plot of the CCDF of the degree distribution Pr(K>=k) for k>=1\n",
    "    \n",
    "    kmax = max(kis)\n",
    "\n",
    "    # histogram and plot\n",
    "    counts, bins = np.histogram(kis, bins=[i for i in range(kmax+2)], density=True)\n",
    "    cumcounts = np.cumsum(counts)\n",
    "    cumcounts = np.insert(cumcounts,0,0)\n",
    "    plt.loglog(bins[1:-1], 1-cumcounts[1:-1], 'rs', alpha=0.5)\n",
    "    plt.xlabel('Degree, k')\n",
    "    plt.ylabel('Pr(K>=k)')\n",
    "    plt.show()\n",
    "    return"
   ]
  },
  {
   "cell_type": "code",
   "execution_count": 100,
   "id": "8f2e2c27-b079-4d7f-aafe-1cdf7f3db0fb",
   "metadata": {},
   "outputs": [
    {
     "name": "stdout",
     "output_type": "stream",
     "text": [
      "reading the network file : ComNet_all.csv\n",
      "\n",
      "number of nodes, n  = 1474\n",
      "number of edges, m  = 21867\n",
      "mean degree,    <k> = 29.67\n",
      "clustering coefficient, C     =  0.19\n",
      "mean geodesic distance, <ell> =  2.08\n"
     ]
    },
    {
     "data": {
      "image/png": "[encoded data removed]",
      "text/plain": [
       "<Figure size 432x288 with 1 Axes>"
      ]
     },
     "metadata": {
      "needs_background": "light"
     },
     "output_type": "display_data"
    }
   ],
   "source": [
    "fname1 = 'ComNet_all.csv'\n",
    "\n",
    "# read in the network file (an edge list)\n",
    "print(f'reading the network file : {fname1}\\n')\n",
    "G = nx.read_edgelist('./' + fname1, delimiter=',', nodetype=str)  # import as a simple graph, index nodes by integers (not strings)\n",
    "\n",
    "# with open('ComNet_all.csv', newline='') as csvfile:\n",
    "#         spamreader = csv.reader(csvfile, delimiter=',')\n",
    "#         for row in spamreader:\n",
    "#             if G.has_edge(row[0],row[1]) == False or G.has_edge(row[1],row[0]) == False:\n",
    "#                 G.add_edge(row[0],row[1])\n",
    "    \n",
    "\n",
    "#YOUR CODE HERE\n",
    "n = nx.number_of_nodes(G)\n",
    "m = nx.number_of_edges(G)\n",
    "kmean = 2*m/n\n",
    "C = nx.transitivity(G)\n",
    "ellmean = nx.average_shortest_path_length(G)\n",
    "degrees = nx.degree(G)\n",
    "kis = [k for _,k in degrees]\n",
    "\n",
    "print(f'number of nodes, n  = {n}')\n",
    "print(f'number of edges, m  = {m}')\n",
    "print(f'mean degree,    <k> = %5.2f' % kmean)\n",
    "print(f'clustering coefficient, C     = %5.2f' % C)\n",
    "print(f'mean geodesic distance, <ell> = %5.2f' % ellmean)\n",
    "\n",
    "plot_CCDF(kis)\n",
    "\n",
    "# plt.figure(1, figsize=(10,10))\n",
    "# plt.title(\"HVR_1 Ridiculogram\")\n",
    "# pos = nx.spring_layout(G)\n",
    "# nx.draw(G, pos)\n",
    "# edge_labels = nx.get_edge_attributes(G, 'label')\n",
    "# nx.draw_networkx_edge_labels(G, pos, edge_labels, font_size=8)\n",
    "# nx.draw_networkx_labels(G, pos, font_size=10)\n",
    "# plt.show()"
   ]
  },
  {
   "cell_type": "code",
   "execution_count": 104,
   "id": "0b44b291-907a-41d5-b297-918878b871c4",
   "metadata": {},
   "outputs": [],
   "source": [
    "groups = {}\n",
    "\n",
    "fname = \"DCSBM_Clusters.csv\"\n",
    "m = np.loadtxt(open(fname, \"rb\"), delimiter=\",\")\n",
    "z = {}\n",
    "pageranks = nx.pagerank(G)\n",
    "\n",
    "m = m.tolist()\n",
    "node_labels = list(G.nodes().keys())\n",
    "    \n",
    "for j in range(len(m)):\n",
    "    z[node_labels[j]] = int(m[j])\n",
    "    if int(m[j]) in groups:\n",
    "        groups[int(m[j])][node_labels[j]] = pageranks[node_labels[j]]\n",
    "    else:\n",
    "        groups[int(m[j])] = {node_labels[j]: pageranks[node_labels[j]]}\n",
    "#     pngName = \"DCSBMExp\" + str(i+1) + \".png\"\n",
    "#     color, group = drawGz(G,z,pngName)\n",
    "\n",
    "#     legend = {'blue': 0, 'green': 0, 'orange': 0}\n",
    "\n",
    "#     for j in range(len(color)):\n",
    "#         if color[j] == '#11c6d6' and legend['blue'] == 0:\n",
    "#             legend['blue'] = group[j]\n",
    "#         if color[j] == '#11d646' and legend['green'] == 0:\n",
    "#             legend['green'] = group[j]\n",
    "#         if color[j] == '#d67711' and legend['orange'] == 0:\n",
    "#             legend['orange'] = group[j]\n",
    "\n"
   ]
  },
  {
   "cell_type": "code",
   "execution_count": 106,
   "id": "5bb3916a-a0cd-4183-9cd4-06f5a62062d2",
   "metadata": {},
   "outputs": [
    {
     "name": "stdout",
     "output_type": "stream",
     "text": [
      "110 2\n",
      "335 5\n",
      "192 3\n",
      "619 4\n",
      "218 1\n"
     ]
    }
   ],
   "source": [
    "maxRanks = {}\n",
    "\n",
    "for group in groups:\n",
    "    maxRanks[group] = [max(groups[group], key=groups[group].get), max(groups[group].values())]\n",
    "    print(len(groups[group]), group)"
   ]
  },
  {
   "cell_type": "code",
   "execution_count": 107,
   "id": "c3a17115-893e-4fd2-b302-00a86017f9e9",
   "metadata": {},
   "outputs": [
    {
     "name": "stdout",
     "output_type": "stream",
     "text": [
      "{2: ['Q24.8', 0.010902007329690742], 5: ['I49.8', 0.016854017948651098], 3: ['Z01.7', 0.03695868752580212], 4: ['I09.1', 0.005402897068466668], 1: ['N18.9', 0.015849796782044647]} {2: ''}\n"
     ]
    }
   ],
   "source": [
    "print(maxRanks, highest_degrees)"
   ]
  },
  {
   "cell_type": "code",
   "execution_count": 108,
   "id": "f0bd2182-db55-4e24-b3d9-462ad3f032ea",
   "metadata": {},
   "outputs": [],
   "source": [
    "# create subgraphs from each cluster\n",
    "\n",
    "SGs = {}\n",
    "\n",
    "for group in groups:\n",
    "    \n",
    "    SGs[group] = G.subgraph(groups[group])"
   ]
  },
  {
   "cell_type": "code",
   "execution_count": 109,
   "id": "af20f7fa-e945-47c1-a026-3c6cc6f222c2",
   "metadata": {},
   "outputs": [],
   "source": [
    "# convert each graph to edgelist in order to run dc-sbm in R\n",
    "i = 1\n",
    "for SG in SGs:\n",
    "    fname = \"subgraph_\" + str(i) + \".csv\"\n",
    "    nx.write_edgelist(SGs[SG], fname, delimiter=\",\",data=True, encoding='utf-8')\n",
    "    i += 1"
   ]
  },
  {
   "cell_type": "code",
   "execution_count": 113,
   "id": "476091d2-e554-4761-bba4-542032ecb7b4",
   "metadata": {},
   "outputs": [
    {
     "name": "stdout",
     "output_type": "stream",
     "text": [
      "110\n",
      "129\n",
      "192\n",
      "298\n",
      "218\n"
     ]
    }
   ],
   "source": [
    "i = 0\n",
    "subgroups = {}\n",
    "\n",
    "for SG in SGs:\n",
    "    subgroups[SG] = {}\n",
    "    pageranks = nx.pagerank(SGs[SG])\n",
    "    fname = \"DCSBM_Subcluster\" + str(i) + \".csv\"\n",
    "    m = np.loadtxt(open(fname, \"rb\"), delimiter=\",\")\n",
    "    z = {}\n",
    "    m = m.tolist()\n",
    "    print(len(m))\n",
    "    node_labels = list(SGs[SG].nodes().keys())\n",
    "    i += 1\n",
    "    for j in range(len(m)):\n",
    "        z[node_labels[j]] = int(m[j])\n",
    "        if int(m[j]) in subgroups[SG]:\n",
    "            subgroups[SG][int(m[j])][node_labels[j]] = pageranks[node_labels[j]]\n",
    "        else:\n",
    "            subgroups[SG][int(m[j])] = {node_labels[j]: pageranks[node_labels[j]]}"
   ]
  },
  {
   "cell_type": "code",
   "execution_count": 111,
   "id": "03b4d148-e0bc-4a4c-9edf-0e3eee8393a9",
   "metadata": {},
   "outputs": [],
   "source": [
    "sub_maxRanks = {}\n",
    "\n",
    "for subgroup in subgroups:\n",
    "    sub_maxRanks[subgroup] = {}\n",
    "    for sub in subgroups[subgroup]:\n",
    "        sub_maxRanks[subgroup][sub] = [max(subgroups[subgroup][sub], key=subgroups[subgroup][sub].get), len(subgroups[subgroup][sub])]"
   ]
  },
  {
   "cell_type": "code",
   "execution_count": 112,
   "id": "d40bc485-04d9-4356-9508-b20c43e35459",
   "metadata": {},
   "outputs": [
    {
     "name": "stdout",
     "output_type": "stream",
     "text": [
      "{2: {2: ['Q21.1', 27], 3: ['R57.0', 27], 4: ['I27.2', 21], 1: ['Q24.8', 24], 5: ['Q21.0', 11]}, 5: {2: ['I49.8', 58], 6: ['N06.7', 4], 4: ['Z00.5', 34], 5: ['M93.9', 8], 7: ['H91.1', 2], 3: ['I10.X', 8], 8: ['B95.7', 4], 1: ['N04.X', 11]}, 3: {1: ['I25.8', 61], 3: ['I70.9', 48], 4: ['I11.0', 35], 2: ['Z01.7', 48]}, 4: {3: ['Z03.8', 169], 5: ['T86.2', 11], 7: ['I72.8', 11], 4: ['C34.9', 15], 1: ['I09.1', 45], 6: ['O99.4', 38], 2: ['Q66.5', 9]}, 1: {4: ['Z49.1', 32], 6: ['M32.1', 38], 1: ['N18.9', 39], 3: ['Z49.2', 35], 5: ['T86.1', 26], 2: ['S37.0', 26], 7: ['N17.9', 22]}}\n"
     ]
    }
   ],
   "source": [
    "print(sub_maxRanks)"
   ]
  },
  {
   "cell_type": "code",
   "execution_count": 14,
   "id": "eb54415b-d66e-4bf4-8861-8148e2cad89a",
   "metadata": {},
   "outputs": [],
   "source": [
    "sub_highest_degrees = {}\n",
    "for SG in SGs:\n",
    "    sub_highest_degrees[SG] = {}\n",
    "    for sub in subgroups[SG]:\n",
    "        sub_highest_degrees[SG][sub] = []\n",
    "        for node in subgroups[SG][sub]:\n",
    "            if sub_highest_degrees[SG][sub] == []:\n",
    "                sub_highest_degrees[SG][sub] = [node, SGs[SG].degree[node]]\n",
    "            elif sub_highest_degrees[SG][sub][1] < SGs[SG].degree[node]:\n",
    "                 sub_highest_degrees[SG][sub] = [node, SGs[SG].degree[node]]"
   ]
  },
  {
   "cell_type": "code",
   "execution_count": 15,
   "id": "e78a3b97-71fc-433c-b4ee-47a661b343a5",
   "metadata": {},
   "outputs": [
    {
     "name": "stdout",
     "output_type": "stream",
     "text": [
      "{2: {1: ['Q21.1', 89], 3: ['Y83.1', 72], 4: ['Z95.8', 52], 5: ['Q23.0', 42], 2: ['Q24.8', 107]}, 5: {2: ['I49.8', 16], 8: ['Z00.5', 8], 3: ['D54.9', 1], 5: ['B37.0', 1], 7: ['N92.6', 2], 4: ['O82.2', 1], 1: ['N04.X', 3], 6: ['I10.X', 37]}, 3: {4: ['I70.9', 149], 3: ['I25.8', 174], 1: ['I48.X', 155], 2: ['Z01.7', 179]}, 4: {5: ['I60.9', 7], 3: ['I61.1', 2], 4: ['I65.8', 3], 1: ['Z03.8', 8], 2: ['E21.0', 4], 6: ['I09.1', 67], 7: ['K76.6', 7]}, 1: {4: ['N18.9', 210], 2: ['I12.0', 43], 1: ['N06.9', 51], 3: ['Z49.2', 119], 8: ['Z96.8', 107], 7: ['D64.9', 67], 6: ['I15.1', 70], 5: ['Z49.1', 139]}}\n"
     ]
    }
   ],
   "source": [
    "print(sub_highest_degrees)"
   ]
  },
  {
   "cell_type": "code",
   "execution_count": 16,
   "id": "2572aa89-9e6a-4328-acce-86f22b7dd700",
   "metadata": {},
   "outputs": [
    {
     "ename": "KeyboardInterrupt",
     "evalue": "",
     "output_type": "error",
     "traceback": [
      "\u001b[0;31m---------------------------------------------------------------------------\u001b[0m",
      "\u001b[0;31mKeyboardInterrupt\u001b[0m                         Traceback (most recent call last)",
      "\u001b[0;32m/var/folders/r0/nz5pf_dj6091xjkx568w3mwr0000gn/T/ipykernel_5644/3977998000.py\u001b[0m in \u001b[0;36m<module>\u001b[0;34m\u001b[0m\n\u001b[1;32m      5\u001b[0m \u001b[0mshortest_path\u001b[0m \u001b[0;34m=\u001b[0m \u001b[0mnx\u001b[0m\u001b[0;34m.\u001b[0m\u001b[0maverage_shortest_path_length\u001b[0m\u001b[0;34m(\u001b[0m\u001b[0mG\u001b[0m\u001b[0;34m)\u001b[0m\u001b[0;34m\u001b[0m\u001b[0;34m\u001b[0m\u001b[0m\n\u001b[1;32m      6\u001b[0m \u001b[0mcurr_between\u001b[0m \u001b[0;34m=\u001b[0m \u001b[0mnx\u001b[0m\u001b[0;34m.\u001b[0m\u001b[0mcurrent_flow_betweenness_centrality\u001b[0m\u001b[0;34m(\u001b[0m\u001b[0mG\u001b[0m\u001b[0;34m)\u001b[0m\u001b[0;34m\u001b[0m\u001b[0;34m\u001b[0m\u001b[0m\n\u001b[0;32m----> 7\u001b[0;31m \u001b[0mshort_between\u001b[0m \u001b[0;34m=\u001b[0m \u001b[0mnx\u001b[0m\u001b[0;34m.\u001b[0m\u001b[0mbetweenness_centrality\u001b[0m\u001b[0;34m(\u001b[0m\u001b[0mG\u001b[0m\u001b[0;34m)\u001b[0m\u001b[0;34m\u001b[0m\u001b[0;34m\u001b[0m\u001b[0m\n\u001b[0m\u001b[1;32m      8\u001b[0m \u001b[0mcloseness\u001b[0m \u001b[0;34m=\u001b[0m \u001b[0mnx\u001b[0m\u001b[0;34m.\u001b[0m\u001b[0mcloseness_centrality\u001b[0m\u001b[0;34m(\u001b[0m\u001b[0mG\u001b[0m\u001b[0;34m)\u001b[0m\u001b[0;34m\u001b[0m\u001b[0;34m\u001b[0m\u001b[0m\n\u001b[1;32m      9\u001b[0m \u001b[0;34m\u001b[0m\u001b[0m\n",
      "\u001b[0;32m~/.virtualenvs/jupyter/lib/python3.9/site-packages/networkx/utils/decorators.py\u001b[0m in \u001b[0;36mfunc\u001b[0;34m(_argmap__wrapper, *args, **kwargs)\u001b[0m\n\u001b[1;32m    793\u001b[0m \u001b[0;34m\u001b[0m\u001b[0m\n\u001b[1;32m    794\u001b[0m             \u001b[0;32mdef\u001b[0m \u001b[0mfunc\u001b[0m\u001b[0;34m(\u001b[0m\u001b[0;34m*\u001b[0m\u001b[0margs\u001b[0m\u001b[0;34m,\u001b[0m \u001b[0m__wrapper\u001b[0m\u001b[0;34m=\u001b[0m\u001b[0;32mNone\u001b[0m\u001b[0;34m,\u001b[0m \u001b[0;34m**\u001b[0m\u001b[0mkwargs\u001b[0m\u001b[0;34m)\u001b[0m\u001b[0;34m:\u001b[0m\u001b[0;34m\u001b[0m\u001b[0;34m\u001b[0m\u001b[0m\n\u001b[0;32m--> 795\u001b[0;31m                 \u001b[0;32mreturn\u001b[0m \u001b[0margmap\u001b[0m\u001b[0;34m.\u001b[0m\u001b[0m_lazy_compile\u001b[0m\u001b[0;34m(\u001b[0m\u001b[0m__wrapper\u001b[0m\u001b[0;34m)\u001b[0m\u001b[0;34m(\u001b[0m\u001b[0;34m*\u001b[0m\u001b[0margs\u001b[0m\u001b[0;34m,\u001b[0m \u001b[0;34m**\u001b[0m\u001b[0mkwargs\u001b[0m\u001b[0;34m)\u001b[0m\u001b[0;34m\u001b[0m\u001b[0;34m\u001b[0m\u001b[0m\n\u001b[0m\u001b[1;32m    796\u001b[0m \u001b[0;34m\u001b[0m\u001b[0m\n\u001b[1;32m    797\u001b[0m         \u001b[0;31m# standard function-wrapping stuff\u001b[0m\u001b[0;34m\u001b[0m\u001b[0;34m\u001b[0m\u001b[0;34m\u001b[0m\u001b[0m\n",
      "\u001b[0;32m~/.virtualenvs/jupyter/lib/python3.9/site-packages/networkx/utils/decorators.py\u001b[0m in \u001b[0;36margmap_betweenness_centrality_31\u001b[0;34m(G, k, normalized, weight, endpoints, seed)\u001b[0m\n\u001b[1;32m      3\u001b[0m \u001b[0;32mfrom\u001b[0m \u001b[0mcontextlib\u001b[0m \u001b[0;32mimport\u001b[0m \u001b[0mcontextmanager\u001b[0m\u001b[0;34m\u001b[0m\u001b[0;34m\u001b[0m\u001b[0m\n\u001b[1;32m      4\u001b[0m \u001b[0;32mfrom\u001b[0m \u001b[0mpathlib\u001b[0m \u001b[0;32mimport\u001b[0m \u001b[0mPath\u001b[0m\u001b[0;34m\u001b[0m\u001b[0;34m\u001b[0m\u001b[0m\n\u001b[0;32m----> 5\u001b[0;31m \u001b[0;32mimport\u001b[0m \u001b[0mwarnings\u001b[0m\u001b[0;34m\u001b[0m\u001b[0;34m\u001b[0m\u001b[0m\n\u001b[0m\u001b[1;32m      6\u001b[0m \u001b[0;34m\u001b[0m\u001b[0m\n\u001b[1;32m      7\u001b[0m \u001b[0;32mimport\u001b[0m \u001b[0mnetworkx\u001b[0m \u001b[0;32mas\u001b[0m \u001b[0mnx\u001b[0m\u001b[0;34m\u001b[0m\u001b[0;34m\u001b[0m\u001b[0m\n",
      "\u001b[0;32m~/.virtualenvs/jupyter/lib/python3.9/site-packages/networkx/algorithms/centrality/betweenness.py\u001b[0m in \u001b[0;36mbetweenness_centrality\u001b[0;34m(G, k, normalized, weight, endpoints, seed)\u001b[0m\n\u001b[1;32m    127\u001b[0m         \u001b[0;31m# single source shortest paths\u001b[0m\u001b[0;34m\u001b[0m\u001b[0;34m\u001b[0m\u001b[0;34m\u001b[0m\u001b[0m\n\u001b[1;32m    128\u001b[0m         \u001b[0;32mif\u001b[0m \u001b[0mweight\u001b[0m \u001b[0;32mis\u001b[0m \u001b[0;32mNone\u001b[0m\u001b[0;34m:\u001b[0m  \u001b[0;31m# use BFS\u001b[0m\u001b[0;34m\u001b[0m\u001b[0;34m\u001b[0m\u001b[0m\n\u001b[0;32m--> 129\u001b[0;31m             \u001b[0mS\u001b[0m\u001b[0;34m,\u001b[0m \u001b[0mP\u001b[0m\u001b[0;34m,\u001b[0m \u001b[0msigma\u001b[0m\u001b[0;34m,\u001b[0m \u001b[0m_\u001b[0m \u001b[0;34m=\u001b[0m \u001b[0m_single_source_shortest_path_basic\u001b[0m\u001b[0;34m(\u001b[0m\u001b[0mG\u001b[0m\u001b[0;34m,\u001b[0m \u001b[0ms\u001b[0m\u001b[0;34m)\u001b[0m\u001b[0;34m\u001b[0m\u001b[0;34m\u001b[0m\u001b[0m\n\u001b[0m\u001b[1;32m    130\u001b[0m         \u001b[0;32melse\u001b[0m\u001b[0;34m:\u001b[0m  \u001b[0;31m# use Dijkstra's algorithm\u001b[0m\u001b[0;34m\u001b[0m\u001b[0;34m\u001b[0m\u001b[0m\n\u001b[1;32m    131\u001b[0m             \u001b[0mS\u001b[0m\u001b[0;34m,\u001b[0m \u001b[0mP\u001b[0m\u001b[0;34m,\u001b[0m \u001b[0msigma\u001b[0m\u001b[0;34m,\u001b[0m \u001b[0m_\u001b[0m \u001b[0;34m=\u001b[0m \u001b[0m_single_source_dijkstra_path_basic\u001b[0m\u001b[0;34m(\u001b[0m\u001b[0mG\u001b[0m\u001b[0;34m,\u001b[0m \u001b[0ms\u001b[0m\u001b[0;34m,\u001b[0m \u001b[0mweight\u001b[0m\u001b[0;34m)\u001b[0m\u001b[0;34m\u001b[0m\u001b[0;34m\u001b[0m\u001b[0m\n",
      "\u001b[0;32m~/.virtualenvs/jupyter/lib/python3.9/site-packages/networkx/algorithms/centrality/betweenness.py\u001b[0m in \u001b[0;36m_single_source_shortest_path_basic\u001b[0;34m(G, s)\u001b[0m\n\u001b[1;32m    266\u001b[0m         \u001b[0mDv\u001b[0m \u001b[0;34m=\u001b[0m \u001b[0mD\u001b[0m\u001b[0;34m[\u001b[0m\u001b[0mv\u001b[0m\u001b[0;34m]\u001b[0m\u001b[0;34m\u001b[0m\u001b[0;34m\u001b[0m\u001b[0m\n\u001b[1;32m    267\u001b[0m         \u001b[0msigmav\u001b[0m \u001b[0;34m=\u001b[0m \u001b[0msigma\u001b[0m\u001b[0;34m[\u001b[0m\u001b[0mv\u001b[0m\u001b[0;34m]\u001b[0m\u001b[0;34m\u001b[0m\u001b[0;34m\u001b[0m\u001b[0m\n\u001b[0;32m--> 268\u001b[0;31m         \u001b[0;32mfor\u001b[0m \u001b[0mw\u001b[0m \u001b[0;32min\u001b[0m \u001b[0mG\u001b[0m\u001b[0;34m[\u001b[0m\u001b[0mv\u001b[0m\u001b[0;34m]\u001b[0m\u001b[0;34m:\u001b[0m\u001b[0;34m\u001b[0m\u001b[0;34m\u001b[0m\u001b[0m\n\u001b[0m\u001b[1;32m    269\u001b[0m             \u001b[0;32mif\u001b[0m \u001b[0mw\u001b[0m \u001b[0;32mnot\u001b[0m \u001b[0;32min\u001b[0m \u001b[0mD\u001b[0m\u001b[0;34m:\u001b[0m\u001b[0;34m\u001b[0m\u001b[0;34m\u001b[0m\u001b[0m\n\u001b[1;32m    270\u001b[0m                 \u001b[0mQ\u001b[0m\u001b[0;34m.\u001b[0m\u001b[0mappend\u001b[0m\u001b[0;34m(\u001b[0m\u001b[0mw\u001b[0m\u001b[0;34m)\u001b[0m\u001b[0;34m\u001b[0m\u001b[0;34m\u001b[0m\u001b[0m\n",
      "\u001b[0;31mKeyboardInterrupt\u001b[0m: "
     ]
    }
   ],
   "source": [
    "#recreate results from net_all_ages.csv file\n",
    "final_data = {} #holds the data we are trying to recereate\n",
    "\n",
    "node_vals = list(G.nodes().keys())\n",
    "shortest_path = nx.average_shortest_path_length(G)\n",
    "curr_between = nx.current_flow_betweenness_centrality(G)\n",
    "short_between = nx.betwxeenness_centrality(G)\n",
    "closeness = nx.closeness_centrality(G)\n",
    "\n",
    "i = 0\n",
    "for node in node_vals:\n",
    "            \n",
    "    final_data[node] = {\n",
    "        \"name\": node_vals[i], \n",
    "        \"ClusteringCoeff\": nx.clustering(G, node_vals[i]), \n",
    "        \"Eccentricity\": nx.eccentricity(G, node_vals[i]), \n",
    "        \"Number Of Edges\": G.degree[node_vals[i]], \n",
    "        \"Current Flow Betweenness Centrality\": curr_between[node_vals[i]], \n",
    "         \"Shortest Path Betweenness Centrality\": short_between[node_vals[i]], \n",
    "        \"Closeness Centrality\": closeness[node_vals[i]],\n",
    "        \"Degree\": G.degree[node_vals[i]]\n",
    "    }\n",
    "    i += 1\n"
   ]
  },
  {
   "cell_type": "code",
   "execution_count": null,
   "id": "5c11590b-8b44-4a87-b08c-a24772b8aaea",
   "metadata": {},
   "outputs": [],
   "source": []
  }
 ],
 "metadata": {
  "kernelspec": {
   "display_name": "Python 3 (ipykernel)",
   "language": "python",
   "name": "python3"
  },
  "language_info": {
   "codemirror_mode": {
    "name": "ipython",
    "version": 3
   },
   "file_extension": ".py",
   "mimetype": "text/x-python",
   "name": "python",
   "nbconvert_exporter": "python",
   "pygments_lexer": "ipython3",
   "version": "3.9.6"
  }
 },
 "nbformat": 4,
 "nbformat_minor": 5
}
